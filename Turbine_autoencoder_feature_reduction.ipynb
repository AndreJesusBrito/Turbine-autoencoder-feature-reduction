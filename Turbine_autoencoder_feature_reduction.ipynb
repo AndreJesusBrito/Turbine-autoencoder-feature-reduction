{
  "nbformat": 4,
  "nbformat_minor": 0,
  "metadata": {
    "colab": {
      "name": "Turbine autoencoder feature reduction.ipynb",
      "provenance": [],
      "collapsed_sections": [],
      "toc_visible": true,
      "mount_file_id": "1BVtXE4RO3dq38JOr72Zesjvty3MFQDPI",
      "authorship_tag": "ABX9TyN4IXexg/cypq2i3ERv+VwS",
      "include_colab_link": true
    },
    "kernelspec": {
      "name": "python3",
      "display_name": "Python 3"
    }
  },
  "cells": [
    {
      "cell_type": "markdown",
      "metadata": {
        "id": "view-in-github",
        "colab_type": "text"
      },
      "source": [
        "<a href=\"https://colab.research.google.com/github/AndreJesusBrito/Turbine_autoencoder_feature_reduction/blob/main/Turbine_autoencoder_feature_reduction.ipynb\" target=\"_parent\"><img src=\"https://colab.research.google.com/assets/colab-badge.svg\" alt=\"Open In Colab\"/></a>"
      ]
    },
    {
      "cell_type": "markdown",
      "metadata": {
        "id": "HrFL8xFohePh"
      },
      "source": [
        "#Comparing Random Forest and Auto-encoder for Wind Turbine Fault Location Classification Feature Reduction"
      ]
    },
    {
      "cell_type": "markdown",
      "metadata": {
        "id": "Z0Q6ya3whkSe"
      },
      "source": [
        "imports\r\n"
      ]
    },
    {
      "cell_type": "code",
      "metadata": {
        "id": "O1VaTwryfeW9"
      },
      "source": [
        "import scipy.io\r\n",
        "import numpy as np\r\n",
        "import tensorflow as tf\r\n",
        "\r\n",
        "from tensorflow.keras import layers, losses\r\n",
        "from tensorflow.keras.models import Model\r\n",
        "\r\n",
        "from sklearn.ensemble import RandomForestClassifier\r\n",
        "from sklearn import tree\r\n",
        "from sklearn.linear_model import LogisticRegression"
      ],
      "execution_count": null,
      "outputs": []
    },
    {
      "cell_type": "markdown",
      "metadata": {
        "id": "Vp_mJQ2ofmxC"
      },
      "source": [
        "Load Dataset"
      ]
    },
    {
      "cell_type": "code",
      "metadata": {
        "id": "sBbCX1QYf5fp"
      },
      "source": [
        "# load dataset mat file from google drive (must be mounted)\r\n",
        "mat = scipy.io.loadmat('drive/MyDrive/TurbineAutoencoder/(1)_features_TS_50000_Ch_003_TR_90_TST_10_dataset_Quantile_RF_thold_0.005_4_classes.mat')\r\n",
        "\r\n",
        "X_training = mat['features_training']\r\n",
        "y_training = mat['labels_training']\r\n",
        "\r\n",
        "X_validation = mat['features_test']\r\n",
        "y_validation = mat['labels_test']"
      ],
      "execution_count": null,
      "outputs": []
    },
    {
      "cell_type": "markdown",
      "metadata": {
        "id": "OLPaqCwgnKWu"
      },
      "source": [
        "The number of features to reduce"
      ]
    },
    {
      "cell_type": "code",
      "metadata": {
        "id": "ps7KeWQAnN10"
      },
      "source": [
        "num_of_features = 10"
      ],
      "execution_count": null,
      "outputs": []
    },
    {
      "cell_type": "markdown",
      "metadata": {
        "id": "cWPxAwwMu-C-"
      },
      "source": [
        "## Auto-encoder feature reduction\r\n",
        "Auto-encoder Definition"
      ]
    },
    {
      "cell_type": "code",
      "metadata": {
        "id": "uAo4A0V10Tnj"
      },
      "source": [
        "class Autoencoder(Model):\r\n",
        "  def __init__(self, num_of_features):\r\n",
        "    super(Autoencoder, self).__init__()\r\n",
        "    self.encoder = tf.keras.Sequential([\r\n",
        "      layers.Flatten(),\r\n",
        "      layers.Input(shape=(33,1)),\r\n",
        "      layers.Dense(24, activation='sigmoid'),\r\n",
        "      layers.Dense(16, activation='sigmoid'),\r\n",
        "      layers.Dense(num_of_features, activation='sigmoid'),\r\n",
        "    ])\r\n",
        "    self.decoder = tf.keras.Sequential([\r\n",
        "      layers.Dense(num_of_features, activation='relu'),\r\n",
        "      layers.Dense(16, activation='relu'),\r\n",
        "      layers.Dense(24, activation='relu'),\r\n",
        "      layers.Dense(33, activation='relu'),\r\n",
        "    ])\r\n",
        "\r\n",
        "  def call(self, x):\r\n",
        "    encoded = self.encoder(x)\r\n",
        "    decoded = self.decoder(encoded)\r\n",
        "    return decoded\r\n"
      ],
      "execution_count": null,
      "outputs": []
    },
    {
      "cell_type": "markdown",
      "metadata": {
        "id": "QR0q3fP6vW8z"
      },
      "source": [
        "Auto-encoder training"
      ]
    },
    {
      "cell_type": "code",
      "metadata": {
        "id": "rlbb-KwfvTzg"
      },
      "source": [
        "autoencoder = Autoencoder(num_of_features)\r\n",
        "\r\n",
        "autoencoder.compile(\r\n",
        "  optimizer='adam',\r\n",
        "  loss=losses.MeanSquaredError(),\r\n",
        "  metrics=['accuracy'],)\r\n",
        "autoencoder.fit(X_training, X_training,\r\n",
        "                epochs=10,\r\n",
        "                batch_size=16,\r\n",
        "                shuffle=True,\r\n",
        "                validation_data=(X_validation, X_validation))\r\n"
      ],
      "execution_count": null,
      "outputs": []
    },
    {
      "cell_type": "markdown",
      "metadata": {
        "id": "H9Hk8f6EDuNb"
      },
      "source": [
        "get auto-encoder reduced features"
      ]
    },
    {
      "cell_type": "code",
      "metadata": {
        "id": "0yR1D3XqDs5M"
      },
      "source": [
        "X_training_ae_reduced = autoencoder.encoder(X_training).numpy()\r\n",
        "X_validation_ae_reduced = autoencoder.encoder(X_validation).numpy()\r\n",
        "\r\n",
        "print(X_training_ae_reduced.shape)\r\n",
        "print(X_validation_ae_reduced.shape)"
      ],
      "execution_count": null,
      "outputs": []
    },
    {
      "cell_type": "markdown",
      "metadata": {
        "id": "InNw7OWOynQ2"
      },
      "source": [
        "##Random Forest feature reduction"
      ]
    },
    {
      "cell_type": "code",
      "metadata": {
        "id": "Rl4tOJlqd7xY"
      },
      "source": [
        "random_forest = RandomForestClassifier(n_estimators=100)\r\n",
        "random_forest.fit(X_training, y_training)"
      ],
      "execution_count": null,
      "outputs": []
    },
    {
      "cell_type": "markdown",
      "metadata": {
        "id": "Cc8gZqUWmzns"
      },
      "source": [
        "Extract the top features data from the the Random Forest classifier."
      ]
    },
    {
      "cell_type": "code",
      "metadata": {
        "id": "VK1CFlvhQF9J"
      },
      "source": [
        "def sel_features(data, clf, max_features):\r\n",
        "  reduced_features = np.ndarray( (len(data), max_features) )\r\n",
        "\r\n",
        "  top_features_indices = clf.feature_importances_.argsort()[:max_features]\r\n",
        "\r\n",
        "  for i in range(len(data)):\r\n",
        "    top_data = data[i][top_features_indices]\r\n",
        "    reduced_features[i] = top_data\r\n",
        "\r\n",
        "  return reduced_features"
      ],
      "execution_count": null,
      "outputs": []
    },
    {
      "cell_type": "code",
      "metadata": {
        "id": "CCzTQTGBeuFk"
      },
      "source": [
        "X_training_rf_reduced = sel_features(X_training, random_forest, num_of_features)\r\n",
        "X_validation_rf_reduced = sel_features(X_validation, random_forest, num_of_features)\r\n",
        "\r\n",
        "print(X_training_rf_reduced.shape)\r\n",
        "print(X_validation_rf_reduced.shape)"
      ],
      "execution_count": null,
      "outputs": []
    },
    {
      "cell_type": "markdown",
      "metadata": {
        "id": "8E9XWv8iatNW"
      },
      "source": [
        "##Tests"
      ]
    },
    {
      "cell_type": "markdown",
      "metadata": {
        "id": "jQR1c-XHG9oI"
      },
      "source": [
        "###CART without feature reduction"
      ]
    },
    {
      "cell_type": "code",
      "metadata": {
        "id": "WGzX-uzmGmi-"
      },
      "source": [
        "clf = tree.DecisionTreeClassifier()\r\n",
        "clf = clf.fit(X_training, y_training)\r\n",
        "\r\n",
        "score = clf.score(X_validation, y_validation)\r\n",
        "print(f'score was {score} with all features')"
      ],
      "execution_count": null,
      "outputs": []
    },
    {
      "cell_type": "markdown",
      "metadata": {
        "id": "GDbozptOn2Xc"
      },
      "source": [
        "###CART with Random Forest feature reduction"
      ]
    },
    {
      "cell_type": "code",
      "metadata": {
        "id": "kzNQ7L-8nzw1"
      },
      "source": [
        "clf = tree.DecisionTreeClassifier()\r\n",
        "clf = clf.fit(X_training_rf_reduced, y_training)\r\n",
        "\r\n",
        "score = clf.score(X_validation_rf_reduced, y_validation)\r\n",
        "print(f'CART score was {score} with random forest feature reduction')"
      ],
      "execution_count": null,
      "outputs": []
    },
    {
      "cell_type": "markdown",
      "metadata": {
        "id": "vKhq87iivdlv"
      },
      "source": [
        "###CART with auto-encoder feature reduction\r\n"
      ]
    },
    {
      "cell_type": "code",
      "metadata": {
        "id": "bwyG554svfvK"
      },
      "source": [
        "clf = tree.DecisionTreeClassifier()\r\n",
        "clf = clf.fit(X_training_ae_reduced, y_training)\r\n",
        "\r\n",
        "score = clf.score(X_validation_ae_reduced, y_validation)\r\n",
        "print(f'CART score was {score} with autoencoder feature reduction')"
      ],
      "execution_count": null,
      "outputs": []
    },
    {
      "cell_type": "markdown",
      "metadata": {
        "id": "EsVH1g9qUjFr"
      },
      "source": [
        "###Random Forest without feature reduction"
      ]
    },
    {
      "cell_type": "code",
      "metadata": {
        "id": "OXSq6IP_Rb93"
      },
      "source": [
        "clf = RandomForestClassifier(n_estimators=100)\r\n",
        "clf.fit(X_training, y_training)\r\n",
        "\r\n",
        "score = clf.score(X_validation, y_validation)\r\n",
        "print(f'Random Forest score was {score} with all features')"
      ],
      "execution_count": null,
      "outputs": []
    },
    {
      "cell_type": "markdown",
      "metadata": {
        "id": "eDf_Lc1hUukE"
      },
      "source": [
        "###Random Forest with Random Forest feature reduction "
      ]
    },
    {
      "cell_type": "code",
      "metadata": {
        "id": "GII6hdZTg4jS"
      },
      "source": [
        "clf = RandomForestClassifier(n_estimators=100)\r\n",
        "clf = clf.fit(X_training_rf_reduced, y_training)\r\n",
        "\r\n",
        "score = clf.score(X_validation_rf_reduced, y_validation)\r\n",
        "print(f'Random Forest score was {score} with Random Forest feature reduction')"
      ],
      "execution_count": null,
      "outputs": []
    },
    {
      "cell_type": "markdown",
      "metadata": {
        "id": "4TOm0sAlVK-s"
      },
      "source": [
        "###Random Forest with Auto-encoder feature reduction"
      ]
    },
    {
      "cell_type": "code",
      "metadata": {
        "id": "PuAkSe8yU7-Q"
      },
      "source": [
        "clf = RandomForestClassifier(n_estimators=100)\r\n",
        "clf = clf.fit(X_training_ae_reduced, y_training)\r\n",
        "\r\n",
        "score = clf.score(X_validation_ae_reduced, y_validation)\r\n",
        "print(f'Random Forest score was {score} with Autoencoder feature reduction')"
      ],
      "execution_count": null,
      "outputs": []
    },
    {
      "cell_type": "markdown",
      "metadata": {
        "id": "e-9-5LsMqX6c"
      },
      "source": [
        "###Logistic Regression without feature reduction"
      ]
    },
    {
      "cell_type": "code",
      "metadata": {
        "id": "pEmcIh3nqcfJ"
      },
      "source": [
        "clf = LogisticRegression(random_state=0, solver='sag', max_iter=100000)\r\n",
        "clf = clf.fit(X_training, y_training)\r\n",
        "\r\n",
        "score = clf.score(X_validation, y_validation)\r\n",
        "print(f'SVM score was {score} with all features')"
      ],
      "execution_count": null,
      "outputs": []
    },
    {
      "cell_type": "markdown",
      "metadata": {
        "id": "A7k3G5DXtpYH"
      },
      "source": [
        "###Logistic Regression with Random Forest feature reduction"
      ]
    },
    {
      "cell_type": "code",
      "metadata": {
        "id": "utFN2az2tzBS"
      },
      "source": [
        "clf = LogisticRegression(random_state=0, solver='sag', max_iter=100000)\r\n",
        "clf = clf.fit(X_training_rf_reduced, y_training)\r\n",
        "\r\n",
        "score = clf.score(X_validation_rf_reduced, y_validation)\r\n",
        "print(f'LR score was {score} with Random Forest feature reduction')"
      ],
      "execution_count": null,
      "outputs": []
    },
    {
      "cell_type": "markdown",
      "metadata": {
        "id": "6uwD5wppA7Bm"
      },
      "source": [
        "###Logistic Regression with Auto-encoder feature reduction"
      ]
    },
    {
      "cell_type": "code",
      "metadata": {
        "id": "1KViBo2xA6ZF"
      },
      "source": [
        "clf = LogisticRegression(random_state=0, solver='sag', max_iter=100000)\r\n",
        "clf = clf.fit(X_training_ae_reduced, y_training)\r\n",
        "\r\n",
        "score = clf.score(X_validation_ae_reduced, y_validation)\r\n",
        "print(f'LR score was {score} with Random Forest feature reduction')"
      ],
      "execution_count": null,
      "outputs": []
    }
  ]
}